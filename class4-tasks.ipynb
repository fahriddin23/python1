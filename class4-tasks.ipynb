{
 "cells": [
  {
   "cell_type": "code",
   "execution_count": 9,
   "metadata": {},
   "outputs": [
    {
     "name": "stdout",
     "output_type": "stream",
     "text": [
      "[1, 2, 3, 4, 5, 6, 7, 8, 9, 10, 12, 13, 14, 15, 16]\n"
     ]
    }
   ],
   "source": [
    "def merge(list1, list2):\n",
    "    merged = list1 + list2  \n",
    "    sorted_list = sorted(merged)  \n",
    "    return sorted_list\n",
    "\n",
    "list1 = [1,2,3,4,5,6,7,8,9,10]\n",
    "list2 = [12,13,14,15,16]\n",
    "merged = merge(list1, list2)\n",
    "print(merged)\n"
   ]
  },
  {
   "cell_type": "code",
   "execution_count": 16,
   "metadata": {},
   "outputs": [
    {
     "name": "stdout",
     "output_type": "stream",
     "text": [
      "Result: 2.0\n"
     ]
    }
   ],
   "source": [
    "def addition(num1, num2):\n",
    "    return num1 + num2\n",
    "\n",
    "def subtraction(num1, num2):\n",
    "    return num1 - num2\n",
    "\n",
    "def multiplication(num1, num2):\n",
    "    return num1 * num2\n",
    "\n",
    "def division(num1, num2):\n",
    "    if num2 != 0:\n",
    "        return num1 / num2\n",
    "    else:\n",
    "        return \"Error: division by zero\"\n",
    "\n",
    "def calculator():\n",
    "    num1 = float(input(\"Enter the first number: \"))\n",
    "    num2 = float(input(\"Enter the second number: \"))\n",
    "\n",
    "    operation = input(\"Enter the operation (+, -, *, /): \")\n",
    "\n",
    "    if operation == '+':\n",
    "        result = addition(num1, num2)\n",
    "    elif operation == '-':\n",
    "        result = subtraction(num1, num2)\n",
    "    elif operation == '*':\n",
    "        result = multiplication(num1, num2)\n",
    "    elif operation == '/':\n",
    "        result = division(num1, num2)\n",
    "    else:\n",
    "        print(\"Invalid operation\")\n",
    "        return\n",
    "\n",
    "    print(\"Result:\", result)\n",
    "\n",
    "calculator()"
   ]
  },
  {
   "cell_type": "code",
   "execution_count": 17,
   "metadata": {},
   "outputs": [],
   "source": [
    "def my_function(*args):\n",
    "  for arg in args:\n",
    "    print(arg)"
   ]
  }
 ],
 "metadata": {
  "language_info": {
   "name": "python"
  },
  "orig_nbformat": 4
 },
 "nbformat": 4,
 "nbformat_minor": 2
}
