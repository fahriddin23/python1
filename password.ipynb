{
 "cells": [
  {
   "cell_type": "code",
   "execution_count": 12,
   "metadata": {},
   "outputs": [
    {
     "name": "stdout",
     "output_type": "stream",
     "text": [
      "Need at least 1 lowercase character\n"
     ]
    }
   ],
   "source": [
    "l, u, d, s = 0, 0, 0, 0\n",
    "ps=input(\"Enter a password: \")\n",
    "if (len(ps) >= 8):\n",
    "    for i in ps:\n",
    " \n",
    "        if (i.islower()):\n",
    "            l+=1           \n",
    " \n",
    "        if (i.isupper()):\n",
    "            u+=1           \n",
    " \n",
    "        if (i.isdigit()):\n",
    "            d+=1           \n",
    " \n",
    "        if(i in specialchar):\n",
    "            s+=1     \n",
    "\n",
    "if (l>=1 and u>=1 and p>=1 and d>=1 and l+u+d+s==len(ps)):\n",
    "    print(\"Password Accepted\")\n",
    "\n",
    "elif l==0:\n",
    "    print(\"Need at least 1 lowercase character\")\n",
    "elif u==0:\n",
    "    print(\"Need at least 1 uppercase character\")\n",
    "elif d==0:\n",
    "    print(\"Need at least 1 number character\")\n",
    "elif s==0:\n",
    "    print(\"Need at least 1 special character\")\n",
    "\n",
    "else:\n",
    "    print(\"Invalid Password\")"
   ]
  }
 ],
 "metadata": {
  "kernelspec": {
   "display_name": "Python 3",
   "language": "python",
   "name": "python3"
  },
  "language_info": {
   "codemirror_mode": {
    "name": "ipython",
    "version": 3
   },
   "file_extension": ".py",
   "mimetype": "text/x-python",
   "name": "python",
   "nbconvert_exporter": "python",
   "pygments_lexer": "ipython3",
   "version": "3.11.4"
  },
  "orig_nbformat": 4
 },
 "nbformat": 4,
 "nbformat_minor": 2
}
