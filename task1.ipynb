{
 "cells": [
  {
   "cell_type": "code",
   "execution_count": 4,
   "metadata": {},
   "outputs": [
    {
     "name": "stdout",
     "output_type": "stream",
     "text": [
      "The temperature in Fahrenheit is: 68.0\n"
     ]
    }
   ],
   "source": [
    "def cel_to_fah(c):\n",
    "    fah = (cel * 9/5) + 32\n",
    "    return fah\n",
    "\n",
    "cel = float(input(\"Enter the temperature in Celsius: \"))\n",
    "fah = cel_to_fah(cel)\n",
    "print(\"The temperature in Fahrenheit is:\", fah)"
   ]
  }
 ],
 "metadata": {
  "kernelspec": {
   "display_name": "Python 3",
   "language": "python",
   "name": "python3"
  },
  "language_info": {
   "codemirror_mode": {
    "name": "ipython",
    "version": 3
   },
   "file_extension": ".py",
   "mimetype": "text/x-python",
   "name": "python",
   "nbconvert_exporter": "python",
   "pygments_lexer": "ipython3",
   "version": "3.11.4"
  },
  "orig_nbformat": 4
 },
 "nbformat": 4,
 "nbformat_minor": 2
}
