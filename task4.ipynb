{
 "cells": [
  {
   "cell_type": "code",
   "execution_count": 2,
   "metadata": {},
   "outputs": [
    {
     "name": "stdout",
     "output_type": "stream",
     "text": [
      "arn:aws:ec2:us-east-2:1234567890:instance\n"
     ]
    }
   ],
   "source": [
    "part1 = \"aws\"\n",
    "part2 = \"ec2\"\n",
    "part3 = \"us-east-2\"\n",
    "part4 = \"1234567890\"\n",
    "part5 = \"instance\"\n",
    "\n",
    "arn = f\"arn:{part1}:{part2}:{part3}:{part4}:{part5}\"\n",
    "print(arn)"
   ]
  }
 ],
 "metadata": {
  "kernelspec": {
   "display_name": "Python 3",
   "language": "python",
   "name": "python3"
  },
  "language_info": {
   "codemirror_mode": {
    "name": "ipython",
    "version": 3
   },
   "file_extension": ".py",
   "mimetype": "text/x-python",
   "name": "python",
   "nbconvert_exporter": "python",
   "pygments_lexer": "ipython3",
   "version": "3.11.4"
  },
  "orig_nbformat": 4
 },
 "nbformat": 4,
 "nbformat_minor": 2
}
