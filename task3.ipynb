{
 "cells": [
  {
   "cell_type": "code",
   "execution_count": null,
   "metadata": {},
   "outputs": [],
   "source": [
    "def result(chars, word):\n",
    "    half = len(chars) // 2\n",
    "    result = chars[:half] + word + chars[half:]\n",
    "    return result\n",
    "\n",
    "chars = input(\"Enter some characters: \")\n",
    "word = input(\"Enter a word: \")\n",
    "result = result(chars, word)\n",
    "print(\"The resulting string is:\", result)"
   ]
  }
 ],
 "metadata": {
  "kernelspec": {
   "display_name": "Python 3",
   "language": "python",
   "name": "python3"
  },
  "language_info": {
   "codemirror_mode": {
    "name": "ipython",
    "version": 3
   },
   "file_extension": ".py",
   "mimetype": "text/x-python",
   "name": "python",
   "nbconvert_exporter": "python",
   "pygments_lexer": "ipython3",
   "version": "3.11.4"
  },
  "orig_nbformat": 4
 },
 "nbformat": 4,
 "nbformat_minor": 2
}
